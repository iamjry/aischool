{
 "cells": [
  {
   "cell_type": "code",
   "execution_count": 1,
   "metadata": {
    "collapsed": false
   },
   "outputs": [
    {
     "name": "stdout",
     "output_type": "stream",
     "text": [
      "id1\n"
     ]
    }
   ],
   "source": [
    "import sqlite3\n",
    "import numpy as np\n",
    "import pandas as pd\n",
    "conn = sqlite3.connect('hackson.db')\n",
    "id=(input(\"id\"))\n",
    "sqlstr=\"SELECT no, pclass, name, sex, age FROM titanic where no='%s';\"  %(id)\n",
    "result=pd.read_sql(sqlstr,conn)\n",
    "male,female=0,0\n",
    "if(result['sex'][0]=='male'):\n",
    "    male=1\n",
    "else:\n",
    "    female=1\n",
    "age15,age30,age50,age65=0,0,0,0\n",
    "if(float(result['age'][0])<16):\n",
    "    age15=1    \n",
    "elif(float(result['age'][0])<31):    \n",
    "    age30=1    \n",
    "elif(float(result['age'][0])<51):    \n",
    "    age50=1    \n",
    "else:\n",
    "    age65=1\n",
    "class1,class2,class3=0,0,0\n",
    "pclass=int(result['pclass'][0])\n",
    "if (pclass==1):\n",
    "    class1=1\n",
    "elif (pclass==2) :\n",
    "    class2=1\n",
    "else:\n",
    "    class3=1\n",
    "customerprofile=np.array([age15,age30,age50,age65,male,female,class1,class2,class3])"
   ]
  },
  {
   "cell_type": "code",
   "execution_count": 3,
   "metadata": {
    "collapsed": false
   },
   "outputs": [
    {
     "data": {
      "text/html": [
       "<div>\n",
       "<table border=\"1\" class=\"dataframe\">\n",
       "  <thead>\n",
       "    <tr style=\"text-align: right;\">\n",
       "      <th></th>\n",
       "      <th>no</th>\n",
       "      <th>pclass</th>\n",
       "      <th>name</th>\n",
       "      <th>sex</th>\n",
       "      <th>age</th>\n",
       "    </tr>\n",
       "  </thead>\n",
       "  <tbody>\n",
       "    <tr>\n",
       "      <th>0</th>\n",
       "      <td>1</td>\n",
       "      <td>1</td>\n",
       "      <td>Allen, Miss. Elisabeth Walton</td>\n",
       "      <td>female</td>\n",
       "      <td>29</td>\n",
       "    </tr>\n",
       "  </tbody>\n",
       "</table>\n",
       "</div>"
      ],
      "text/plain": [
       "  no pclass                           name     sex age\n",
       "0  1      1  Allen, Miss. Elisabeth Walton  female  29"
      ]
     },
     "execution_count": 3,
     "metadata": {},
     "output_type": "execute_result"
    }
   ],
   "source": [
    "result"
   ]
  },
  {
   "cell_type": "code",
   "execution_count": 2,
   "metadata": {
    "collapsed": false
   },
   "outputs": [
    {
     "data": {
      "text/html": [
       "<div>\n",
       "<table border=\"1\" class=\"dataframe\">\n",
       "  <thead>\n",
       "    <tr style=\"text-align: right;\">\n",
       "      <th></th>\n",
       "      <th>產品編號</th>\n",
       "      <th>產品名稱</th>\n",
       "      <th>age15</th>\n",
       "      <th>age30</th>\n",
       "      <th>age50</th>\n",
       "      <th>age65</th>\n",
       "      <th>male</th>\n",
       "      <th>female</th>\n",
       "      <th>class1</th>\n",
       "      <th>class2</th>\n",
       "      <th>class3</th>\n",
       "      <th>weight</th>\n",
       "    </tr>\n",
       "  </thead>\n",
       "  <tbody>\n",
       "    <tr>\n",
       "      <th>11</th>\n",
       "      <td>500FC0009002</td>\n",
       "      <td>ZOEYEN水漾生物纖維面膜</td>\n",
       "      <td>-99</td>\n",
       "      <td>10</td>\n",
       "      <td>8</td>\n",
       "      <td>5</td>\n",
       "      <td>-5</td>\n",
       "      <td>10</td>\n",
       "      <td>10</td>\n",
       "      <td>5</td>\n",
       "      <td>-5</td>\n",
       "      <td>30.0</td>\n",
       "    </tr>\n",
       "    <tr>\n",
       "      <th>13</th>\n",
       "      <td>500FC0009023</td>\n",
       "      <td>ZOEYEN美妍NAG胺基酸洗面乳</td>\n",
       "      <td>-99</td>\n",
       "      <td>10</td>\n",
       "      <td>8</td>\n",
       "      <td>5</td>\n",
       "      <td>-5</td>\n",
       "      <td>10</td>\n",
       "      <td>6</td>\n",
       "      <td>5</td>\n",
       "      <td>-5</td>\n",
       "      <td>26.0</td>\n",
       "    </tr>\n",
       "    <tr>\n",
       "      <th>10</th>\n",
       "      <td>500FC0009013</td>\n",
       "      <td>ZOEYEN小分子抗皺活顏精華露</td>\n",
       "      <td>-99</td>\n",
       "      <td>5</td>\n",
       "      <td>10</td>\n",
       "      <td>5</td>\n",
       "      <td>-5</td>\n",
       "      <td>10</td>\n",
       "      <td>10</td>\n",
       "      <td>5</td>\n",
       "      <td>-5</td>\n",
       "      <td>25.0</td>\n",
       "    </tr>\n",
       "    <tr>\n",
       "      <th>9</th>\n",
       "      <td>500FC0002008</td>\n",
       "      <td>纖可麗</td>\n",
       "      <td>-99</td>\n",
       "      <td>2</td>\n",
       "      <td>10</td>\n",
       "      <td>8</td>\n",
       "      <td>-5</td>\n",
       "      <td>10</td>\n",
       "      <td>10</td>\n",
       "      <td>5</td>\n",
       "      <td>-5</td>\n",
       "      <td>22.0</td>\n",
       "    </tr>\n",
       "    <tr>\n",
       "      <th>1</th>\n",
       "      <td>500FC0003004</td>\n",
       "      <td>頂級小分子膠原蛋白</td>\n",
       "      <td>-99</td>\n",
       "      <td>2</td>\n",
       "      <td>10</td>\n",
       "      <td>8</td>\n",
       "      <td>-5</td>\n",
       "      <td>10</td>\n",
       "      <td>10</td>\n",
       "      <td>5</td>\n",
       "      <td>-5</td>\n",
       "      <td>22.0</td>\n",
       "    </tr>\n",
       "  </tbody>\n",
       "</table>\n",
       "</div>"
      ],
      "text/plain": [
       "            產品編號               產品名稱  age15  age30  age50  age65  male  female  \\\n",
       "11  500FC0009002     ZOEYEN水漾生物纖維面膜    -99     10      8      5    -5      10   \n",
       "13  500FC0009023  ZOEYEN美妍NAG胺基酸洗面乳    -99     10      8      5    -5      10   \n",
       "10  500FC0009013   ZOEYEN小分子抗皺活顏精華露    -99      5     10      5    -5      10   \n",
       "9   500FC0002008                纖可麗    -99      2     10      8    -5      10   \n",
       "1   500FC0003004          頂級小分子膠原蛋白    -99      2     10      8    -5      10   \n",
       "\n",
       "    class1  class2  class3  weight  \n",
       "11      10       5      -5    30.0  \n",
       "13       6       5      -5    26.0  \n",
       "10      10       5      -5    25.0  \n",
       "9       10       5      -5    22.0  \n",
       "1       10       5      -5    22.0  "
      ]
     },
     "execution_count": 2,
     "metadata": {},
     "output_type": "execute_result"
    }
   ],
   "source": [
    "sqlstr=\"SELECT 產品編號, 產品名稱, age15, age30, age50, age65, male, female, class1, class2, class3 FROM 中油生技產品;\"\n",
    "bioproduct=pd.read_sql(sqlstr,conn)\n",
    "feature=bioproduct[['age15','age30','age50','age65','male','female','class1','class2','class3']]\n",
    " \n",
    "for i in range(0,len(bioproduct)):\n",
    "    c=feature.iloc[i]*customerprofile\n",
    "    weight=np.sum(c)    \n",
    "    bioproduct.loc[i,'weight']=weight\n",
    "bioproduct.sort_values(by=['weight'],ascending=0).head()"
   ]
  },
  {
   "cell_type": "code",
   "execution_count": 4,
   "metadata": {
    "collapsed": false
   },
   "outputs": [],
   "source": [
    " sortedbioproduct=(bioproduct.sort_values(by=['weight'],ascending=0))"
   ]
  },
  {
   "cell_type": "code",
   "execution_count": 18,
   "metadata": {
    "collapsed": false
   },
   "outputs": [],
   "source": [
    "conn.close()"
   ]
  }
 ],
 "metadata": {
  "anaconda-cloud": {},
  "kernelspec": {
   "display_name": "Python [default]",
   "language": "python",
   "name": "python3"
  },
  "language_info": {
   "codemirror_mode": {
    "name": "ipython",
    "version": 3
   },
   "file_extension": ".py",
   "mimetype": "text/x-python",
   "name": "python",
   "nbconvert_exporter": "python",
   "pygments_lexer": "ipython3",
   "version": "3.5.2"
  }
 },
 "nbformat": 4,
 "nbformat_minor": 1
}
